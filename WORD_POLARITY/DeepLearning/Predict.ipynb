{
 "cells": [
  {
   "cell_type": "code",
   "execution_count": 2,
   "id": "5a114b20",
   "metadata": {},
   "outputs": [],
   "source": [
    "import tensorflow as tf\n",
    "tf.get_logger().setLevel('ERROR')"
   ]
  },
  {
   "cell_type": "code",
   "execution_count": 3,
   "id": "9ef30171",
   "metadata": {},
   "outputs": [],
   "source": [
    "import numpy as np\n",
    "from tensorflow.keras.models import load_model\n",
    "from tensorflow.keras.preprocessing.sequence import pad_sequences\n",
    "from tensorflow.keras.datasets import imdb"
   ]
  },
  {
   "cell_type": "code",
   "execution_count": 4,
   "id": "d7d146e7",
   "metadata": {},
   "outputs": [],
   "source": [
    "# une critique de film en une séquence d'indices de mots\n",
    "def preprocess_review(review):\n",
    "    word_index = imdb.get_word_index()\n",
    "    words = review.split()\n",
    "    words = [word_index[word] + 3 for word in words if word in word_index]\n",
    "    return pad_sequences([words], maxlen=maxlen)"
   ]
  },
  {
   "cell_type": "code",
   "execution_count": 5,
   "id": "24bbea42",
   "metadata": {},
   "outputs": [],
   "source": [
    "# Chargement du modèle \n",
    "max_features = 10000\n",
    "maxlen = 100\n",
    "model = load_model('RNN_model.h5')"
   ]
  },
  {
   "cell_type": "code",
   "execution_count": 7,
   "id": "28323da0",
   "metadata": {},
   "outputs": [
    {
     "name": "stdout",
     "output_type": "stream",
     "text": [
      "Veuillez entrer votre critique de film : this film was bad\n",
      "1/1 [==============================] - 0s 422ms/step\n",
      "Sentiment prédit : Négatif\n"
     ]
    }
   ],
   "source": [
    "# Définir une critique à tester\n",
    "review_text = input(\"Veuillez entrer votre critique de film en anglais : \")\n",
    "\n",
    "# Prétraiter la critique\n",
    "preprocessed_review = preprocess_review(review_text)\n",
    "\n",
    "# prédire le sentiment\n",
    "prediction = model.predict(preprocessed_review)\n",
    "\n",
    "# Afficher la prédiction\n",
    "if prediction[0][0] >= 0.5:\n",
    "    print(\"Sentiment prédit : Positif\")\n",
    "else:\n",
    "    print(\"Sentiment prédit : Négatif\")"
   ]
  },
  {
   "cell_type": "code",
   "execution_count": null,
   "id": "5085b940",
   "metadata": {},
   "outputs": [],
   "source": []
  }
 ],
 "metadata": {
  "kernelspec": {
   "display_name": "Python 3 (ipykernel)",
   "language": "python",
   "name": "python3"
  },
  "language_info": {
   "codemirror_mode": {
    "name": "ipython",
    "version": 3
   },
   "file_extension": ".py",
   "mimetype": "text/x-python",
   "name": "python",
   "nbconvert_exporter": "python",
   "pygments_lexer": "ipython3",
   "version": "3.9.13"
  }
 },
 "nbformat": 4,
 "nbformat_minor": 5
}
